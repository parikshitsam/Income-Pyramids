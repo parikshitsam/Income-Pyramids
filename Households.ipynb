{
 "cells": [
  {
   "cell_type": "code",
   "execution_count": 1,
   "id": "d2f25ae0",
   "metadata": {},
   "outputs": [],
   "source": [
    "import pandas as pd\n",
    "import numpy as np\n",
    "import matplotlib.pyplot as plt"
   ]
  },
  {
   "cell_type": "markdown",
   "id": "9fe23246",
   "metadata": {},
   "source": [
    "# Loading the File"
   ]
  },
  {
   "cell_type": "code",
   "execution_count": 2,
   "id": "8330e375",
   "metadata": {},
   "outputs": [
    {
     "data": {
      "text/html": [
       "<div>\n",
       "<style scoped>\n",
       "    .dataframe tbody tr th:only-of-type {\n",
       "        vertical-align: middle;\n",
       "    }\n",
       "\n",
       "    .dataframe tbody tr th {\n",
       "        vertical-align: top;\n",
       "    }\n",
       "\n",
       "    .dataframe thead th {\n",
       "        text-align: right;\n",
       "    }\n",
       "</style>\n",
       "<table border=\"1\" class=\"dataframe\">\n",
       "  <thead>\n",
       "    <tr style=\"text-align: right;\">\n",
       "      <th></th>\n",
       "      <th>HH_ID</th>\n",
       "      <th>STATE</th>\n",
       "      <th>HR</th>\n",
       "      <th>DISTRICT</th>\n",
       "      <th>REGION_TYPE</th>\n",
       "      <th>STRATUM</th>\n",
       "      <th>PSU_ID</th>\n",
       "      <th>MONTH_SLOT</th>\n",
       "      <th>MONTH</th>\n",
       "      <th>RESPONSE_STATUS</th>\n",
       "      <th>...</th>\n",
       "      <th>GENDER_GROUP</th>\n",
       "      <th>SIZE_GROUP</th>\n",
       "      <th>TOTAL_INCOME</th>\n",
       "      <th>INCOME_OF_ALL_MEMBERS_FROM_ALL_SOURCES</th>\n",
       "      <th>INCOME_OF_ALL_MEMBERS_FROM_WAGES</th>\n",
       "      <th>INCOME_OF_HOUSEHOLD_FROM_ALL_SOURCES</th>\n",
       "      <th>INCOME_OF_HOUSEHOLD_FROM_RENT</th>\n",
       "      <th>INCOME_OF_HOUSEHOLD_FROM_SELF_PRODUCTION</th>\n",
       "      <th>INCOME_OF_HOUSEHOLD_FROM_PRIVATE_TRANSFERS</th>\n",
       "      <th>INCOME_OF_HOUSEHOLD_FROM_BUSINESS_PROFIT</th>\n",
       "    </tr>\n",
       "  </thead>\n",
       "  <tbody>\n",
       "    <tr>\n",
       "      <th>0</th>\n",
       "      <td>77051739</td>\n",
       "      <td>Jammu &amp; Kashmir</td>\n",
       "      <td>HR 1</td>\n",
       "      <td>Bandipore</td>\n",
       "      <td>RURAL</td>\n",
       "      <td>HR 1_RURAL_R</td>\n",
       "      <td>PSU_ID_7959</td>\n",
       "      <td>May 2014</td>\n",
       "      <td>Jan 2014</td>\n",
       "      <td>Accepted</td>\n",
       "      <td>...</td>\n",
       "      <td>Female Majority</td>\n",
       "      <td>8-10 Members</td>\n",
       "      <td>19000</td>\n",
       "      <td>19000</td>\n",
       "      <td>19000</td>\n",
       "      <td>0</td>\n",
       "      <td>0</td>\n",
       "      <td>0</td>\n",
       "      <td>0</td>\n",
       "      <td>0</td>\n",
       "    </tr>\n",
       "    <tr>\n",
       "      <th>1</th>\n",
       "      <td>61287374</td>\n",
       "      <td>Jammu &amp; Kashmir</td>\n",
       "      <td>HR 1</td>\n",
       "      <td>Bandipore</td>\n",
       "      <td>RURAL</td>\n",
       "      <td>HR 1_RURAL_R</td>\n",
       "      <td>PSU_ID_7959</td>\n",
       "      <td>May 2014</td>\n",
       "      <td>Jan 2014</td>\n",
       "      <td>Accepted</td>\n",
       "      <td>...</td>\n",
       "      <td>Male Dominated</td>\n",
       "      <td>4 Members</td>\n",
       "      <td>22000</td>\n",
       "      <td>22000</td>\n",
       "      <td>22000</td>\n",
       "      <td>0</td>\n",
       "      <td>0</td>\n",
       "      <td>0</td>\n",
       "      <td>0</td>\n",
       "      <td>0</td>\n",
       "    </tr>\n",
       "    <tr>\n",
       "      <th>2</th>\n",
       "      <td>34049553</td>\n",
       "      <td>Jammu &amp; Kashmir</td>\n",
       "      <td>HR 1</td>\n",
       "      <td>Bandipore</td>\n",
       "      <td>RURAL</td>\n",
       "      <td>HR 1_RURAL_R</td>\n",
       "      <td>PSU_ID_7959</td>\n",
       "      <td>May 2014</td>\n",
       "      <td>Jan 2014</td>\n",
       "      <td>Accepted</td>\n",
       "      <td>...</td>\n",
       "      <td>Male Majority</td>\n",
       "      <td>3 Members</td>\n",
       "      <td>5600</td>\n",
       "      <td>5600</td>\n",
       "      <td>5600</td>\n",
       "      <td>0</td>\n",
       "      <td>0</td>\n",
       "      <td>0</td>\n",
       "      <td>0</td>\n",
       "      <td>0</td>\n",
       "    </tr>\n",
       "    <tr>\n",
       "      <th>3</th>\n",
       "      <td>92526123</td>\n",
       "      <td>Jammu &amp; Kashmir</td>\n",
       "      <td>HR 1</td>\n",
       "      <td>Bandipore</td>\n",
       "      <td>RURAL</td>\n",
       "      <td>HR 1_RURAL_R</td>\n",
       "      <td>PSU_ID_7959</td>\n",
       "      <td>May 2014</td>\n",
       "      <td>Jan 2014</td>\n",
       "      <td>Accepted</td>\n",
       "      <td>...</td>\n",
       "      <td>Male Majority</td>\n",
       "      <td>8-10 Members</td>\n",
       "      <td>25100</td>\n",
       "      <td>25100</td>\n",
       "      <td>25100</td>\n",
       "      <td>0</td>\n",
       "      <td>0</td>\n",
       "      <td>0</td>\n",
       "      <td>0</td>\n",
       "      <td>0</td>\n",
       "    </tr>\n",
       "    <tr>\n",
       "      <th>4</th>\n",
       "      <td>61508707</td>\n",
       "      <td>Jammu &amp; Kashmir</td>\n",
       "      <td>HR 1</td>\n",
       "      <td>Bandipore</td>\n",
       "      <td>RURAL</td>\n",
       "      <td>HR 1_RURAL_R</td>\n",
       "      <td>PSU_ID_7959</td>\n",
       "      <td>May 2014</td>\n",
       "      <td>Jan 2014</td>\n",
       "      <td>Accepted</td>\n",
       "      <td>...</td>\n",
       "      <td>Balanced</td>\n",
       "      <td>4 Members</td>\n",
       "      <td>7700</td>\n",
       "      <td>3500</td>\n",
       "      <td>3500</td>\n",
       "      <td>4200</td>\n",
       "      <td>0</td>\n",
       "      <td>0</td>\n",
       "      <td>0</td>\n",
       "      <td>4200</td>\n",
       "    </tr>\n",
       "  </tbody>\n",
       "</table>\n",
       "<p>5 rows × 30 columns</p>\n",
       "</div>"
      ],
      "text/plain": [
       "      HH_ID            STATE    HR   DISTRICT REGION_TYPE       STRATUM  \\\n",
       "0  77051739  Jammu & Kashmir  HR 1  Bandipore       RURAL  HR 1_RURAL_R   \n",
       "1  61287374  Jammu & Kashmir  HR 1  Bandipore       RURAL  HR 1_RURAL_R   \n",
       "2  34049553  Jammu & Kashmir  HR 1  Bandipore       RURAL  HR 1_RURAL_R   \n",
       "3  92526123  Jammu & Kashmir  HR 1  Bandipore       RURAL  HR 1_RURAL_R   \n",
       "4  61508707  Jammu & Kashmir  HR 1  Bandipore       RURAL  HR 1_RURAL_R   \n",
       "\n",
       "        PSU_ID MONTH_SLOT     MONTH RESPONSE_STATUS  ...     GENDER_GROUP  \\\n",
       "0  PSU_ID_7959   May 2014  Jan 2014        Accepted  ...  Female Majority   \n",
       "1  PSU_ID_7959   May 2014  Jan 2014        Accepted  ...   Male Dominated   \n",
       "2  PSU_ID_7959   May 2014  Jan 2014        Accepted  ...    Male Majority   \n",
       "3  PSU_ID_7959   May 2014  Jan 2014        Accepted  ...    Male Majority   \n",
       "4  PSU_ID_7959   May 2014  Jan 2014        Accepted  ...         Balanced   \n",
       "\n",
       "     SIZE_GROUP  TOTAL_INCOME  INCOME_OF_ALL_MEMBERS_FROM_ALL_SOURCES  \\\n",
       "0  8-10 Members         19000                                   19000   \n",
       "1     4 Members         22000                                   22000   \n",
       "2     3 Members          5600                                    5600   \n",
       "3  8-10 Members         25100                                   25100   \n",
       "4     4 Members          7700                                    3500   \n",
       "\n",
       "   INCOME_OF_ALL_MEMBERS_FROM_WAGES  INCOME_OF_HOUSEHOLD_FROM_ALL_SOURCES  \\\n",
       "0                             19000                                     0   \n",
       "1                             22000                                     0   \n",
       "2                              5600                                     0   \n",
       "3                             25100                                     0   \n",
       "4                              3500                                  4200   \n",
       "\n",
       "   INCOME_OF_HOUSEHOLD_FROM_RENT INCOME_OF_HOUSEHOLD_FROM_SELF_PRODUCTION  \\\n",
       "0                              0                                        0   \n",
       "1                              0                                        0   \n",
       "2                              0                                        0   \n",
       "3                              0                                        0   \n",
       "4                              0                                        0   \n",
       "\n",
       "  INCOME_OF_HOUSEHOLD_FROM_PRIVATE_TRANSFERS  \\\n",
       "0                                          0   \n",
       "1                                          0   \n",
       "2                                          0   \n",
       "3                                          0   \n",
       "4                                          0   \n",
       "\n",
       "  INCOME_OF_HOUSEHOLD_FROM_BUSINESS_PROFIT  \n",
       "0                                        0  \n",
       "1                                        0  \n",
       "2                                        0  \n",
       "3                                        0  \n",
       "4                                     4200  \n",
       "\n",
       "[5 rows x 30 columns]"
      ]
     },
     "execution_count": 2,
     "metadata": {},
     "output_type": "execute_result"
    }
   ],
   "source": [
    "path = r\"C:\\Users\\parik\\Documents\\Data sets\\Income Pyramids-20211206T143645Z-001\\Income Pyramids\\Household Incomes\\household_income_20140131_MS_rev_csv\\household_income_20140131_MS_rev.csv\"\n",
    "df = pd.read_csv(path)\n",
    "df.head()"
   ]
  },
  {
   "cell_type": "markdown",
   "id": "cc437500",
   "metadata": {},
   "source": [
    "# Cross Section EDA"
   ]
  },
  {
   "cell_type": "code",
   "execution_count": 3,
   "id": "97c57bf4",
   "metadata": {},
   "outputs": [
    {
     "name": "stdout",
     "output_type": "stream",
     "text": [
      "Index(['HH_ID', 'STATE', 'HR', 'DISTRICT', 'REGION_TYPE', 'STRATUM', 'PSU_ID',\n",
      "       'MONTH_SLOT', 'MONTH', 'RESPONSE_STATUS', 'REASON_FOR_NON_RESPONSE',\n",
      "       'HH_WEIGHT_MS', 'HH_WEIGHT_FOR_COUNTRY_MS', 'HH_WEIGHT_FOR_STATE_MS',\n",
      "       'HH_NON_RESPONSE_MS', 'HH_NON_RESPONSE_FOR_COUNTRY_MS',\n",
      "       'HH_NON_RESPONSE_FOR_STATE_MS', 'AGE_GROUP', 'OCCUPATION_GROUP',\n",
      "       'EDUCATION_GROUP', 'GENDER_GROUP', 'SIZE_GROUP', 'TOTAL_INCOME',\n",
      "       'INCOME_OF_ALL_MEMBERS_FROM_ALL_SOURCES',\n",
      "       'INCOME_OF_ALL_MEMBERS_FROM_WAGES',\n",
      "       'INCOME_OF_HOUSEHOLD_FROM_ALL_SOURCES', 'INCOME_OF_HOUSEHOLD_FROM_RENT',\n",
      "       'INCOME_OF_HOUSEHOLD_FROM_SELF_PRODUCTION',\n",
      "       'INCOME_OF_HOUSEHOLD_FROM_PRIVATE_TRANSFERS',\n",
      "       'INCOME_OF_HOUSEHOLD_FROM_BUSINESS_PROFIT'],\n",
      "      dtype='object')\n",
      "['Jammu & Kashmir' 'Himachal Pradesh' 'Chandigarh' 'Punjab' 'Haryana'\n",
      " 'Delhi' 'Rajasthan' 'Uttar Pradesh' 'Uttarakhand' 'Gujarat' 'Maharashtra'\n",
      " 'Goa' 'Madhya Pradesh' 'Karnataka' 'Andhra Pradesh' 'Telangana'\n",
      " 'Tamil Nadu' 'Puducherry' 'Kerala' 'Assam' 'West Bengal' 'Bihar'\n",
      " 'Jharkhand' 'Odisha' 'Chhattisgarh']\n",
      "['Youngsters - dominant' 'Balanced households with no Seniors'\n",
      " 'Grown-up - dominant' 'Others households of Grown-ups'\n",
      " 'Other households of the Young' 'Seniors - dominant'\n",
      " 'Balanced households with Seniors' 'Children - dominant'\n",
      " 'Data Not Available']\n"
     ]
    }
   ],
   "source": [
    "print(df.columns)\n",
    "print(df.STATE.unique())\n",
    "print(df.AGE_GROUP.unique())"
   ]
  },
  {
   "cell_type": "code",
   "execution_count": 4,
   "id": "5b569d40",
   "metadata": {
    "scrolled": true
   },
   "outputs": [
    {
     "data": {
      "text/plain": [
       "<AxesSubplot:>"
      ]
     },
     "execution_count": 4,
     "metadata": {},
     "output_type": "execute_result"
    },
    {
     "data": {
      "image/png": "[encoded data removed]",
      "text/plain": [
       "<Figure size 432x288 with 1 Axes>"
      ]
     },
     "metadata": {
      "needs_background": "light"
     },
     "output_type": "display_data"
    }
   ],
   "source": [
    "df[\"AGE_GROUP\"].hist()"
   ]
  },
  {
   "cell_type": "code",
   "execution_count": 5,
   "id": "cad69e45",
   "metadata": {},
   "outputs": [],
   "source": [
    "age_dist = df.groupby(\"AGE_GROUP\").count()[\"HH_ID\"]\n"
   ]
  },
  {
   "cell_type": "code",
   "execution_count": 6,
   "id": "431327a6",
   "metadata": {},
   "outputs": [
    {
     "data": {
      "image/png": "[encoded data removed]",
      "text/plain": [
       "<Figure size 432x288 with 1 Axes>"
      ]
     },
     "metadata": {},
     "output_type": "display_data"
    }
   ],
   "source": [
    "fig = plt.figure()\n",
    "ax = fig.add_axes([0,0,1,1])\n",
    "ax.axis('equal')\n",
    "ax.pie(age_dist, labels = age_dist.index,autopct='%1.2f%%')\n",
    "plt.show()"
   ]
  },
  {
   "cell_type": "code",
   "execution_count": 7,
   "id": "0078fa83",
   "metadata": {},
   "outputs": [
    {
     "data": {
      "text/plain": [
       "<AxesSubplot:>"
      ]
     },
     "execution_count": 7,
     "metadata": {},
     "output_type": "execute_result"
    },
    {
     "data": {
      "image/png": "[encoded data removed]",
      "text/plain": [
       "<Figure size 432x288 with 1 Axes>"
      ]
     },
     "metadata": {
      "needs_background": "light"
     },
     "output_type": "display_data"
    }
   ],
   "source": [
    "df['INCOME_OF_ALL_MEMBERS_FROM_ALL_SOURCES'].hist()"
   ]
  },
  {
   "cell_type": "code",
   "execution_count": 8,
   "id": "b3c3059e",
   "metadata": {},
   "outputs": [
    {
     "data": {
      "image/png": "[encoded data removed]",
      "text/plain": [
       "<Figure size 432x288 with 1 Axes>"
      ]
     },
     "metadata": {},
     "output_type": "display_data"
    }
   ],
   "source": [
    "edugroup_dist = df.groupby(\"EDUCATION_GROUP\").count()[\"HH_ID\"]\n",
    "fig = plt.figure()\n",
    "ax = fig.add_axes([0,0,1,1])\n",
    "ax.axis('equal')\n",
    "ax.pie(edugroup_dist, labels = edugroup_dist.index,autopct='%1.2f%%')\n",
    "plt.show()"
   ]
  },
  {
   "cell_type": "code",
   "execution_count": 9,
   "id": "da0cf673",
   "metadata": {},
   "outputs": [
    {
     "data": {
      "text/plain": [
       "Index(['HH_ID', 'STATE', 'HR', 'DISTRICT', 'REGION_TYPE', 'STRATUM', 'PSU_ID',\n",
       "       'MONTH_SLOT', 'MONTH', 'RESPONSE_STATUS', 'REASON_FOR_NON_RESPONSE',\n",
       "       'HH_WEIGHT_MS', 'HH_WEIGHT_FOR_COUNTRY_MS', 'HH_WEIGHT_FOR_STATE_MS',\n",
       "       'HH_NON_RESPONSE_MS', 'HH_NON_RESPONSE_FOR_COUNTRY_MS',\n",
       "       'HH_NON_RESPONSE_FOR_STATE_MS', 'AGE_GROUP', 'OCCUPATION_GROUP',\n",
       "       'EDUCATION_GROUP', 'GENDER_GROUP', 'SIZE_GROUP', 'TOTAL_INCOME',\n",
       "       'INCOME_OF_ALL_MEMBERS_FROM_ALL_SOURCES',\n",
       "       'INCOME_OF_ALL_MEMBERS_FROM_WAGES',\n",
       "       'INCOME_OF_HOUSEHOLD_FROM_ALL_SOURCES', 'INCOME_OF_HOUSEHOLD_FROM_RENT',\n",
       "       'INCOME_OF_HOUSEHOLD_FROM_SELF_PRODUCTION',\n",
       "       'INCOME_OF_HOUSEHOLD_FROM_PRIVATE_TRANSFERS',\n",
       "       'INCOME_OF_HOUSEHOLD_FROM_BUSINESS_PROFIT'],\n",
       "      dtype='object')"
      ]
     },
     "execution_count": 9,
     "metadata": {},
     "output_type": "execute_result"
    }
   ],
   "source": [
    "df.columns"
   ]
  },
  {
   "cell_type": "code",
   "execution_count": 10,
   "id": "ad95c8df",
   "metadata": {},
   "outputs": [
    {
     "data": {
      "text/plain": [
       "array(['8-10 Members', '4 Members', '3 Members', '6 Members', '7 Members',\n",
       "       '2 Members', '5 Members', '1 Member', 'Data Not Available',\n",
       "       '11-15 Members', '> 15 Members'], dtype=object)"
      ]
     },
     "execution_count": 10,
     "metadata": {},
     "output_type": "execute_result"
    }
   ],
   "source": [
    "df['SIZE_GROUP'].unique()"
   ]
  },
  {
   "cell_type": "code",
   "execution_count": 11,
   "id": "26d0c85e",
   "metadata": {
    "scrolled": true
   },
   "outputs": [],
   "source": [
    "# cols = ['TOTAL_INCOME','INCOME_OF_ALL_MEMBERS_FROM_ALL_SOURCES','INCOME_OF_ALL_MEMBERS_FROM_WAGES',\n",
    "#        'INCOME_OF_HOUSEHOLD_FROM_ALL_SOURCES', 'INCOME_OF_HOUSEHOLD_FROM_RENT',\n",
    "#        'INCOME_OF_HOUSEHOLD_FROM_SELF_PRODUCTION',\n",
    "#        'INCOME_OF_HOUSEHOLD_FROM_PRIVATE_TRANSFERS',\n",
    "#        'INCOME_OF_HOUSEHOLD_FROM_BUSINESS_PROFIT']\n",
    "# for col in cols:\n",
    "#     edu_income_dist = df.groupby('EDUCATION_GROUP').agg({col:np.mean}).drop('Data Not Available',axis=0)    \n",
    "#     edu_income_dist.plot.barh()    "
   ]
  },
  {
   "cell_type": "code",
   "execution_count": 12,
   "id": "cb5e3091",
   "metadata": {},
   "outputs": [
    {
     "data": {
      "text/plain": [
       "Index(['INCOME_OF_ALL_MEMBERS_FROM_WAGES', 'INCOME_OF_HOUSEHOLD_FROM_RENT',\n",
       "       'INCOME_OF_HOUSEHOLD_FROM_SELF_PRODUCTION',\n",
       "       'INCOME_OF_HOUSEHOLD_FROM_PRIVATE_TRANSFERS',\n",
       "       'INCOME_OF_HOUSEHOLD_FROM_BUSINESS_PROFIT'],\n",
       "      dtype='object')"
      ]
     },
     "execution_count": 12,
     "metadata": {},
     "output_type": "execute_result"
    }
   ],
   "source": [
    "edu_income_dist = df.groupby('EDUCATION_GROUP').agg(np.mean).drop('Data Not Available',axis=0)\n",
    "cols_to_drop = ['HH_ID', 'HH_WEIGHT_MS', 'HH_WEIGHT_FOR_COUNTRY_MS',\n",
    "       'HH_WEIGHT_FOR_STATE_MS', 'HH_NON_RESPONSE_MS',\n",
    "       'HH_NON_RESPONSE_FOR_COUNTRY_MS', 'HH_NON_RESPONSE_FOR_STATE_MS',\n",
    "       'TOTAL_INCOME', 'INCOME_OF_ALL_MEMBERS_FROM_ALL_SOURCES','INCOME_OF_HOUSEHOLD_FROM_ALL_SOURCES']\n",
    "for col in cols_to_drop:\n",
    "    edu_income_dist.drop(col,axis=1,inplace=True)\n",
    "edu_income_dist.columns"
   ]
  },
  {
   "cell_type": "code",
   "execution_count": 13,
   "id": "1ac78083",
   "metadata": {},
   "outputs": [],
   "source": [
    "edu_income_dist.index\n",
    "cols_to_drop = ['All Graduates household','Graduates dominated household', 'Graduates majority household']\n",
    "for col in cols_to_drop:\n",
    "    edu_income_dist.drop(col,axis=0,inplace=True)"
   ]
  },
  {
   "cell_type": "code",
   "execution_count": 14,
   "id": "cd05a6e8",
   "metadata": {},
   "outputs": [
    {
     "data": {
      "text/plain": [
       "<matplotlib.legend.Legend at 0x1c214d03100>"
      ]
     },
     "execution_count": 14,
     "metadata": {},
     "output_type": "execute_result"
    },
    {
     "data": {
      "image/png": "[encoded data removed]",
      "text/plain": [
       "<Figure size 432x288 with 1 Axes>"
      ]
     },
     "metadata": {
      "needs_background": "light"
     },
     "output_type": "display_data"
    }
   ],
   "source": [
    "edu_income_dist.plot(kind='barh', stacked=True,title='Stacked Bar Graph by dataframe')\n",
    "plt.legend([\"Wages\", \"Rent\", \"Self Production\", \"Private Transfers\",\"Business Profit\"])"
   ]
  },
  {
   "cell_type": "code",
   "execution_count": 15,
   "id": "e53dbd66",
   "metadata": {},
   "outputs": [],
   "source": [
    "# col = \"Graduates dominated household\"\n",
    "# edu_income_dist.drop(col,axis=0,inplace=True)\n",
    "# edu_income_dist.drop(\"All Graduates household\",axis=0,inplace=True)\n",
    "# edu_income_dist.plot(kind='barh', stacked=True,title='Stacked Bar Graph by dataframe')\n",
    "# plt.legend([\"Wages\", \"Rent\", \"Self Production\", \"Private Transfers\",\"Business Profit\"])"
   ]
  },
  {
   "cell_type": "markdown",
   "id": "6a7e49bc",
   "metadata": {},
   "source": [
    "# Marital Status"
   ]
  },
  {
   "cell_type": "code",
   "execution_count": 16,
   "id": "73f18409",
   "metadata": {},
   "outputs": [
    {
     "data": {
      "text/html": [
       "<div>\n",
       "<style scoped>\n",
       "    .dataframe tbody tr th:only-of-type {\n",
       "        vertical-align: middle;\n",
       "    }\n",
       "\n",
       "    .dataframe tbody tr th {\n",
       "        vertical-align: top;\n",
       "    }\n",
       "\n",
       "    .dataframe thead th {\n",
       "        text-align: right;\n",
       "    }\n",
       "</style>\n",
       "<table border=\"1\" class=\"dataframe\">\n",
       "  <thead>\n",
       "    <tr style=\"text-align: right;\">\n",
       "      <th></th>\n",
       "      <th>HH_ID</th>\n",
       "      <th>STATE</th>\n",
       "      <th>HR</th>\n",
       "      <th>DISTRICT</th>\n",
       "      <th>REGION_TYPE</th>\n",
       "      <th>STRATUM</th>\n",
       "      <th>PSU_ID</th>\n",
       "      <th>MONTH_SLOT</th>\n",
       "      <th>MONTH</th>\n",
       "      <th>RESPONSE_STATUS</th>\n",
       "      <th>...</th>\n",
       "      <th>GENDER_GROUP</th>\n",
       "      <th>SIZE_GROUP</th>\n",
       "      <th>TOTAL_INCOME</th>\n",
       "      <th>INCOME_OF_ALL_MEMBERS_FROM_ALL_SOURCES</th>\n",
       "      <th>INCOME_OF_ALL_MEMBERS_FROM_WAGES</th>\n",
       "      <th>INCOME_OF_HOUSEHOLD_FROM_ALL_SOURCES</th>\n",
       "      <th>INCOME_OF_HOUSEHOLD_FROM_RENT</th>\n",
       "      <th>INCOME_OF_HOUSEHOLD_FROM_SELF_PRODUCTION</th>\n",
       "      <th>INCOME_OF_HOUSEHOLD_FROM_PRIVATE_TRANSFERS</th>\n",
       "      <th>INCOME_OF_HOUSEHOLD_FROM_BUSINESS_PROFIT</th>\n",
       "    </tr>\n",
       "  </thead>\n",
       "  <tbody>\n",
       "    <tr>\n",
       "      <th>0</th>\n",
       "      <td>77051739</td>\n",
       "      <td>Jammu &amp; Kashmir</td>\n",
       "      <td>HR 1</td>\n",
       "      <td>Bandipore</td>\n",
       "      <td>RURAL</td>\n",
       "      <td>HR 1_RURAL_R</td>\n",
       "      <td>PSU_ID_7959</td>\n",
       "      <td>May 2014</td>\n",
       "      <td>Jan 2014</td>\n",
       "      <td>Accepted</td>\n",
       "      <td>...</td>\n",
       "      <td>Female Majority</td>\n",
       "      <td>8-10 Members</td>\n",
       "      <td>19000</td>\n",
       "      <td>19000</td>\n",
       "      <td>19000</td>\n",
       "      <td>0</td>\n",
       "      <td>0</td>\n",
       "      <td>0</td>\n",
       "      <td>0</td>\n",
       "      <td>0</td>\n",
       "    </tr>\n",
       "    <tr>\n",
       "      <th>1</th>\n",
       "      <td>61287374</td>\n",
       "      <td>Jammu &amp; Kashmir</td>\n",
       "      <td>HR 1</td>\n",
       "      <td>Bandipore</td>\n",
       "      <td>RURAL</td>\n",
       "      <td>HR 1_RURAL_R</td>\n",
       "      <td>PSU_ID_7959</td>\n",
       "      <td>May 2014</td>\n",
       "      <td>Jan 2014</td>\n",
       "      <td>Accepted</td>\n",
       "      <td>...</td>\n",
       "      <td>Male Dominated</td>\n",
       "      <td>4 Members</td>\n",
       "      <td>22000</td>\n",
       "      <td>22000</td>\n",
       "      <td>22000</td>\n",
       "      <td>0</td>\n",
       "      <td>0</td>\n",
       "      <td>0</td>\n",
       "      <td>0</td>\n",
       "      <td>0</td>\n",
       "    </tr>\n",
       "    <tr>\n",
       "      <th>2</th>\n",
       "      <td>34049553</td>\n",
       "      <td>Jammu &amp; Kashmir</td>\n",
       "      <td>HR 1</td>\n",
       "      <td>Bandipore</td>\n",
       "      <td>RURAL</td>\n",
       "      <td>HR 1_RURAL_R</td>\n",
       "      <td>PSU_ID_7959</td>\n",
       "      <td>May 2014</td>\n",
       "      <td>Jan 2014</td>\n",
       "      <td>Accepted</td>\n",
       "      <td>...</td>\n",
       "      <td>Male Majority</td>\n",
       "      <td>3 Members</td>\n",
       "      <td>5600</td>\n",
       "      <td>5600</td>\n",
       "      <td>5600</td>\n",
       "      <td>0</td>\n",
       "      <td>0</td>\n",
       "      <td>0</td>\n",
       "      <td>0</td>\n",
       "      <td>0</td>\n",
       "    </tr>\n",
       "    <tr>\n",
       "      <th>3</th>\n",
       "      <td>92526123</td>\n",
       "      <td>Jammu &amp; Kashmir</td>\n",
       "      <td>HR 1</td>\n",
       "      <td>Bandipore</td>\n",
       "      <td>RURAL</td>\n",
       "      <td>HR 1_RURAL_R</td>\n",
       "      <td>PSU_ID_7959</td>\n",
       "      <td>May 2014</td>\n",
       "      <td>Jan 2014</td>\n",
       "      <td>Accepted</td>\n",
       "      <td>...</td>\n",
       "      <td>Male Majority</td>\n",
       "      <td>8-10 Members</td>\n",
       "      <td>25100</td>\n",
       "      <td>25100</td>\n",
       "      <td>25100</td>\n",
       "      <td>0</td>\n",
       "      <td>0</td>\n",
       "      <td>0</td>\n",
       "      <td>0</td>\n",
       "      <td>0</td>\n",
       "    </tr>\n",
       "    <tr>\n",
       "      <th>4</th>\n",
       "      <td>61508707</td>\n",
       "      <td>Jammu &amp; Kashmir</td>\n",
       "      <td>HR 1</td>\n",
       "      <td>Bandipore</td>\n",
       "      <td>RURAL</td>\n",
       "      <td>HR 1_RURAL_R</td>\n",
       "      <td>PSU_ID_7959</td>\n",
       "      <td>May 2014</td>\n",
       "      <td>Jan 2014</td>\n",
       "      <td>Accepted</td>\n",
       "      <td>...</td>\n",
       "      <td>Balanced</td>\n",
       "      <td>4 Members</td>\n",
       "      <td>7700</td>\n",
       "      <td>3500</td>\n",
       "      <td>3500</td>\n",
       "      <td>4200</td>\n",
       "      <td>0</td>\n",
       "      <td>0</td>\n",
       "      <td>0</td>\n",
       "      <td>4200</td>\n",
       "    </tr>\n",
       "  </tbody>\n",
       "</table>\n",
       "<p>5 rows × 30 columns</p>\n",
       "</div>"
      ],
      "text/plain": [
       "      HH_ID            STATE    HR   DISTRICT REGION_TYPE       STRATUM  \\\n",
       "0  77051739  Jammu & Kashmir  HR 1  Bandipore       RURAL  HR 1_RURAL_R   \n",
       "1  61287374  Jammu & Kashmir  HR 1  Bandipore       RURAL  HR 1_RURAL_R   \n",
       "2  34049553  Jammu & Kashmir  HR 1  Bandipore       RURAL  HR 1_RURAL_R   \n",
       "3  92526123  Jammu & Kashmir  HR 1  Bandipore       RURAL  HR 1_RURAL_R   \n",
       "4  61508707  Jammu & Kashmir  HR 1  Bandipore       RURAL  HR 1_RURAL_R   \n",
       "\n",
       "        PSU_ID MONTH_SLOT     MONTH RESPONSE_STATUS  ...     GENDER_GROUP  \\\n",
       "0  PSU_ID_7959   May 2014  Jan 2014        Accepted  ...  Female Majority   \n",
       "1  PSU_ID_7959   May 2014  Jan 2014        Accepted  ...   Male Dominated   \n",
       "2  PSU_ID_7959   May 2014  Jan 2014        Accepted  ...    Male Majority   \n",
       "3  PSU_ID_7959   May 2014  Jan 2014        Accepted  ...    Male Majority   \n",
       "4  PSU_ID_7959   May 2014  Jan 2014        Accepted  ...         Balanced   \n",
       "\n",
       "     SIZE_GROUP  TOTAL_INCOME  INCOME_OF_ALL_MEMBERS_FROM_ALL_SOURCES  \\\n",
       "0  8-10 Members         19000                                   19000   \n",
       "1     4 Members         22000                                   22000   \n",
       "2     3 Members          5600                                    5600   \n",
       "3  8-10 Members         25100                                   25100   \n",
       "4     4 Members          7700                                    3500   \n",
       "\n",
       "   INCOME_OF_ALL_MEMBERS_FROM_WAGES  INCOME_OF_HOUSEHOLD_FROM_ALL_SOURCES  \\\n",
       "0                             19000                                     0   \n",
       "1                             22000                                     0   \n",
       "2                              5600                                     0   \n",
       "3                             25100                                     0   \n",
       "4                              3500                                  4200   \n",
       "\n",
       "   INCOME_OF_HOUSEHOLD_FROM_RENT INCOME_OF_HOUSEHOLD_FROM_SELF_PRODUCTION  \\\n",
       "0                              0                                        0   \n",
       "1                              0                                        0   \n",
       "2                              0                                        0   \n",
       "3                              0                                        0   \n",
       "4                              0                                        0   \n",
       "\n",
       "  INCOME_OF_HOUSEHOLD_FROM_PRIVATE_TRANSFERS  \\\n",
       "0                                          0   \n",
       "1                                          0   \n",
       "2                                          0   \n",
       "3                                          0   \n",
       "4                                          0   \n",
       "\n",
       "  INCOME_OF_HOUSEHOLD_FROM_BUSINESS_PROFIT  \n",
       "0                                        0  \n",
       "1                                        0  \n",
       "2                                        0  \n",
       "3                                        0  \n",
       "4                                     4200  \n",
       "\n",
       "[5 rows x 30 columns]"
      ]
     },
     "execution_count": 16,
     "metadata": {},
     "output_type": "execute_result"
    }
   ],
   "source": [
    "df.head()"
   ]
  },
  {
   "cell_type": "code",
   "execution_count": null,
   "id": "c70a09c8",
   "metadata": {},
   "outputs": [],
   "source": []
  },
  {
   "cell_type": "code",
   "execution_count": null,
   "id": "c0e83fd4",
   "metadata": {},
   "outputs": [],
   "source": []
  },
  {
   "cell_type": "code",
   "execution_count": null,
   "id": "37f43103",
   "metadata": {},
   "outputs": [],
   "source": []
  },
  {
   "cell_type": "code",
   "execution_count": null,
   "id": "9ec38692",
   "metadata": {},
   "outputs": [],
   "source": []
  },
  {
   "cell_type": "code",
   "execution_count": null,
   "id": "e80978a8",
   "metadata": {},
   "outputs": [],
   "source": []
  }
 ],
 "metadata": {
  "kernelspec": {
   "display_name": "Python 3",
   "language": "python",
   "name": "python3"
  },
  "language_info": {
   "codemirror_mode": {
    "name": "ipython",
    "version": 3
   },
   "file_extension": ".py",
   "mimetype": "text/x-python",
   "name": "python",
   "nbconvert_exporter": "python",
   "pygments_lexer": "ipython3",
   "version": "3.8.8"
  }
 },
 "nbformat": 4,
 "nbformat_minor": 5
}
