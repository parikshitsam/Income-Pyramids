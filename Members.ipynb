{
 "cells": [
  {
   "cell_type": "code",
   "execution_count": 1,
   "id": "37913126",
   "metadata": {},
   "outputs": [],
   "source": [
    "import numpy as np\n",
    "import pandas as pd\n",
    "import matplotlib.pyplot as plt\n",
    "import squarify"
   ]
  },
  {
   "cell_type": "code",
   "execution_count": 2,
   "id": "761cfc2a",
   "metadata": {},
   "outputs": [
    {
     "data": {
      "text/html": [
       "<div>\n",
       "<style scoped>\n",
       "    .dataframe tbody tr th:only-of-type {\n",
       "        vertical-align: middle;\n",
       "    }\n",
       "\n",
       "    .dataframe tbody tr th {\n",
       "        vertical-align: top;\n",
       "    }\n",
       "\n",
       "    .dataframe thead th {\n",
       "        text-align: right;\n",
       "    }\n",
       "</style>\n",
       "<table border=\"1\" class=\"dataframe\">\n",
       "  <thead>\n",
       "    <tr style=\"text-align: right;\">\n",
       "      <th></th>\n",
       "      <th>HH_ID</th>\n",
       "      <th>MEM_ID</th>\n",
       "      <th>STATE</th>\n",
       "      <th>HR</th>\n",
       "      <th>DISTRICT</th>\n",
       "      <th>REGION_TYPE</th>\n",
       "      <th>STRATUM</th>\n",
       "      <th>PSU_ID</th>\n",
       "      <th>MONTH_SLOT</th>\n",
       "      <th>MONTH</th>\n",
       "      <th>...</th>\n",
       "      <th>RELATION_WITH_HOH</th>\n",
       "      <th>STATE_OF_ORIGIN</th>\n",
       "      <th>RELIGION</th>\n",
       "      <th>CASTE</th>\n",
       "      <th>CASTE_CATEGORY</th>\n",
       "      <th>LITERACY</th>\n",
       "      <th>EDUCATION</th>\n",
       "      <th>NATURE_OF_OCCUPATION</th>\n",
       "      <th>INCOME_OF_MEMBER_FROM_ALL_SOURCES</th>\n",
       "      <th>INCOME_OF_MEMBER_FROM_WAGES</th>\n",
       "    </tr>\n",
       "  </thead>\n",
       "  <tbody>\n",
       "    <tr>\n",
       "      <th>0</th>\n",
       "      <td>77051739</td>\n",
       "      <td>1</td>\n",
       "      <td>Jammu &amp; Kashmir</td>\n",
       "      <td>HR 1</td>\n",
       "      <td>Bandipore</td>\n",
       "      <td>RURAL</td>\n",
       "      <td>HR 1_RURAL_R</td>\n",
       "      <td>PSU_ID_7959</td>\n",
       "      <td>May 2014</td>\n",
       "      <td>Jan 2014</td>\n",
       "      <td>...</td>\n",
       "      <td>HOH</td>\n",
       "      <td>Jammu &amp; Kashmir</td>\n",
       "      <td>Muslim</td>\n",
       "      <td>Other ST</td>\n",
       "      <td>ST</td>\n",
       "      <td>Y</td>\n",
       "      <td>Graduate</td>\n",
       "      <td>White collar worker</td>\n",
       "      <td>19000</td>\n",
       "      <td>19000</td>\n",
       "    </tr>\n",
       "    <tr>\n",
       "      <th>1</th>\n",
       "      <td>77051739</td>\n",
       "      <td>2</td>\n",
       "      <td>Jammu &amp; Kashmir</td>\n",
       "      <td>HR 1</td>\n",
       "      <td>Bandipore</td>\n",
       "      <td>RURAL</td>\n",
       "      <td>HR 1_RURAL_R</td>\n",
       "      <td>PSU_ID_7959</td>\n",
       "      <td>May 2014</td>\n",
       "      <td>Jan 2014</td>\n",
       "      <td>...</td>\n",
       "      <td>Son</td>\n",
       "      <td>Jammu &amp; Kashmir</td>\n",
       "      <td>Muslim</td>\n",
       "      <td>Other ST</td>\n",
       "      <td>ST</td>\n",
       "      <td>Y</td>\n",
       "      <td>4th Std. Pass</td>\n",
       "      <td>Student</td>\n",
       "      <td>0</td>\n",
       "      <td>0</td>\n",
       "    </tr>\n",
       "    <tr>\n",
       "      <th>2</th>\n",
       "      <td>77051739</td>\n",
       "      <td>3</td>\n",
       "      <td>Jammu &amp; Kashmir</td>\n",
       "      <td>HR 1</td>\n",
       "      <td>Bandipore</td>\n",
       "      <td>RURAL</td>\n",
       "      <td>HR 1_RURAL_R</td>\n",
       "      <td>PSU_ID_7959</td>\n",
       "      <td>May 2014</td>\n",
       "      <td>Jan 2014</td>\n",
       "      <td>...</td>\n",
       "      <td>Not Applicable</td>\n",
       "      <td>Not Applicable</td>\n",
       "      <td>Not Applicable</td>\n",
       "      <td>Not Applicable</td>\n",
       "      <td>Not Applicable</td>\n",
       "      <td>Not Applicable</td>\n",
       "      <td>Not Applicable</td>\n",
       "      <td>Not Applicable</td>\n",
       "      <td>0</td>\n",
       "      <td>0</td>\n",
       "    </tr>\n",
       "    <tr>\n",
       "      <th>3</th>\n",
       "      <td>77051739</td>\n",
       "      <td>4</td>\n",
       "      <td>Jammu &amp; Kashmir</td>\n",
       "      <td>HR 1</td>\n",
       "      <td>Bandipore</td>\n",
       "      <td>RURAL</td>\n",
       "      <td>HR 1_RURAL_R</td>\n",
       "      <td>PSU_ID_7959</td>\n",
       "      <td>May 2014</td>\n",
       "      <td>Jan 2014</td>\n",
       "      <td>...</td>\n",
       "      <td>Daughter</td>\n",
       "      <td>Jammu &amp; Kashmir</td>\n",
       "      <td>Muslim</td>\n",
       "      <td>Other ST</td>\n",
       "      <td>ST</td>\n",
       "      <td>Y</td>\n",
       "      <td>12th Std. Pass</td>\n",
       "      <td>Student</td>\n",
       "      <td>0</td>\n",
       "      <td>0</td>\n",
       "    </tr>\n",
       "    <tr>\n",
       "      <th>4</th>\n",
       "      <td>77051739</td>\n",
       "      <td>5</td>\n",
       "      <td>Jammu &amp; Kashmir</td>\n",
       "      <td>HR 1</td>\n",
       "      <td>Bandipore</td>\n",
       "      <td>RURAL</td>\n",
       "      <td>HR 1_RURAL_R</td>\n",
       "      <td>PSU_ID_7959</td>\n",
       "      <td>May 2014</td>\n",
       "      <td>Jan 2014</td>\n",
       "      <td>...</td>\n",
       "      <td>Daughter</td>\n",
       "      <td>Jammu &amp; Kashmir</td>\n",
       "      <td>Muslim</td>\n",
       "      <td>Other ST</td>\n",
       "      <td>ST</td>\n",
       "      <td>Y</td>\n",
       "      <td>Graduate</td>\n",
       "      <td>Student</td>\n",
       "      <td>0</td>\n",
       "      <td>0</td>\n",
       "    </tr>\n",
       "  </tbody>\n",
       "</table>\n",
       "<p>5 rows × 32 columns</p>\n",
       "</div>"
      ],
      "text/plain": [
       "      HH_ID  MEM_ID            STATE    HR   DISTRICT REGION_TYPE  \\\n",
       "0  77051739       1  Jammu & Kashmir  HR 1  Bandipore       RURAL   \n",
       "1  77051739       2  Jammu & Kashmir  HR 1  Bandipore       RURAL   \n",
       "2  77051739       3  Jammu & Kashmir  HR 1  Bandipore       RURAL   \n",
       "3  77051739       4  Jammu & Kashmir  HR 1  Bandipore       RURAL   \n",
       "4  77051739       5  Jammu & Kashmir  HR 1  Bandipore       RURAL   \n",
       "\n",
       "        STRATUM       PSU_ID MONTH_SLOT     MONTH  ... RELATION_WITH_HOH  \\\n",
       "0  HR 1_RURAL_R  PSU_ID_7959   May 2014  Jan 2014  ...               HOH   \n",
       "1  HR 1_RURAL_R  PSU_ID_7959   May 2014  Jan 2014  ...               Son   \n",
       "2  HR 1_RURAL_R  PSU_ID_7959   May 2014  Jan 2014  ...    Not Applicable   \n",
       "3  HR 1_RURAL_R  PSU_ID_7959   May 2014  Jan 2014  ...          Daughter   \n",
       "4  HR 1_RURAL_R  PSU_ID_7959   May 2014  Jan 2014  ...          Daughter   \n",
       "\n",
       "   STATE_OF_ORIGIN        RELIGION           CASTE  CASTE_CATEGORY  \\\n",
       "0  Jammu & Kashmir          Muslim        Other ST              ST   \n",
       "1  Jammu & Kashmir          Muslim        Other ST              ST   \n",
       "2   Not Applicable  Not Applicable  Not Applicable  Not Applicable   \n",
       "3  Jammu & Kashmir          Muslim        Other ST              ST   \n",
       "4  Jammu & Kashmir          Muslim        Other ST              ST   \n",
       "\n",
       "         LITERACY       EDUCATION  NATURE_OF_OCCUPATION  \\\n",
       "0               Y        Graduate   White collar worker   \n",
       "1               Y   4th Std. Pass               Student   \n",
       "2  Not Applicable  Not Applicable        Not Applicable   \n",
       "3               Y  12th Std. Pass               Student   \n",
       "4               Y        Graduate               Student   \n",
       "\n",
       "  INCOME_OF_MEMBER_FROM_ALL_SOURCES INCOME_OF_MEMBER_FROM_WAGES  \n",
       "0                             19000                       19000  \n",
       "1                                 0                           0  \n",
       "2                                 0                           0  \n",
       "3                                 0                           0  \n",
       "4                                 0                           0  \n",
       "\n",
       "[5 rows x 32 columns]"
      ]
     },
     "execution_count": 2,
     "metadata": {},
     "output_type": "execute_result"
    }
   ],
   "source": [
    "path = r\"C:\\Users\\parik\\Documents\\Data sets\\Income Pyramids-20211206T143645Z-001\\Income Pyramids\\Member Incomes\\member_income_20140131_MS_rev_csv\\member_income_20140131_MS_rev.csv\"\n",
    "df = pd.read_csv(path)\n",
    "df.head()"
   ]
  },
  {
   "cell_type": "code",
   "execution_count": 3,
   "id": "e005d298",
   "metadata": {},
   "outputs": [
    {
     "data": {
      "text/plain": [
       "Index(['HH_ID', 'MEM_ID', 'STATE', 'HR', 'DISTRICT', 'REGION_TYPE', 'STRATUM',\n",
       "       'PSU_ID', 'MONTH_SLOT', 'MONTH', 'RESPONSE_STATUS',\n",
       "       'REASON_FOR_NON_RESPONSE', 'MEM_WEIGHT_MS', 'MEM_WEIGHT_FOR_COUNTRY_MS',\n",
       "       'MEM_WEIGHT_FOR_STATE_MS', 'MEM_NON_RESPONSE_MS',\n",
       "       'MEM_NON_RESPONSE_FOR_COUNTRY_MS', 'MEM_NON_RESPONSE_FOR_STATE_MS',\n",
       "       'MEMBER_STATUS', 'GENDER', 'AGE_YRS', 'AGE_MTHS', 'RELATION_WITH_HOH',\n",
       "       'STATE_OF_ORIGIN', 'RELIGION', 'CASTE', 'CASTE_CATEGORY', 'LITERACY',\n",
       "       'EDUCATION', 'NATURE_OF_OCCUPATION',\n",
       "       'INCOME_OF_MEMBER_FROM_ALL_SOURCES', 'INCOME_OF_MEMBER_FROM_WAGES'],\n",
       "      dtype='object')"
      ]
     },
     "execution_count": 3,
     "metadata": {},
     "output_type": "execute_result"
    }
   ],
   "source": [
    "df.columns"
   ]
  },
  {
   "cell_type": "code",
   "execution_count": 4,
   "id": "a30fbf56",
   "metadata": {},
   "outputs": [
    {
     "data": {
      "text/plain": [
       "<AxesSubplot:>"
      ]
     },
     "execution_count": 4,
     "metadata": {},
     "output_type": "execute_result"
    },
    {
     "data": {
      "image/png": "[encoded data removed]",
      "text/plain": [
       "<Figure size 432x288 with 1 Axes>"
      ]
     },
     "metadata": {
      "needs_background": "light"
     },
     "output_type": "display_data"
    }
   ],
   "source": [
    "df2 = df[df['AGE_YRS']>0]\n",
    "df2['AGE_YRS'].hist()"
   ]
  },
  {
   "cell_type": "code",
   "execution_count": 5,
   "id": "4e5726fd",
   "metadata": {},
   "outputs": [
    {
     "data": {
      "text/plain": [
       "['Brahmin',\n",
       " 'Not Applicable',\n",
       " 'Other OBC',\n",
       " 'Chamar',\n",
       " 'Rajputs',\n",
       " 'Yadav',\n",
       " 'Maratha',\n",
       " 'Jat',\n",
       " 'Ashraf (Sayyad Shaikh)',\n",
       " 'Other OBC (Pasmanda)',\n",
       " 'Mughal (Khan)',\n",
       " 'Vaishya/Bania',\n",
       " 'Other SC',\n",
       " 'Other Upper Castes',\n",
       " 'Kayastha',\n",
       " 'Service OBC (Kewat/Dhobi/Nai/Teli/Jogi/etc)',\n",
       " 'Kurmi',\n",
       " 'Mahar',\n",
       " 'Adi Dravida',\n",
       " 'Lingayat',\n",
       " 'Vanniyar',\n",
       " 'Balmiki',\n",
       " 'Khatris',\n",
       " 'Kunbi',\n",
       " 'Khandayat',\n",
       " 'Gond',\n",
       " 'Other ST',\n",
       " 'Madiga',\n",
       " 'Vaishya/Marwari/Bania',\n",
       " 'Mali',\n",
       " 'Vokkaliga',\n",
       " 'Gujjar',\n",
       " 'Pasi',\n",
       " 'Mala',\n",
       " 'Bhil',\n",
       " 'Service OBC (Ezhavas, Veluthedathu Nayar, Vathi, etc.)',\n",
       " 'Weaver and Craftsmen OBC (Devanga/Darzee/Boya/Kummara/etc)',\n",
       " 'Reddy',\n",
       " 'Namasudra',\n",
       " 'Rajbanshi',\n",
       " 'Mudaliar',\n",
       " 'Mina',\n",
       " 'Kahar',\n",
       " 'Weaver and Craftsmen OBC (Bhavsar/Darzee/Lohar/Prajapati/Sonar/etc)',\n",
       " 'Dusadh',\n",
       " 'Service OBC (Nai/Napit/Dhobi(non-SC)/Kewat, Jogi, etc.)',\n",
       " 'Yadava/Golla/Kuruma',\n",
       " 'Arora/Khatri',\n",
       " 'Bhumihar',\n",
       " 'Service OBC (Kewat/Nai/Teli/Jogi)',\n",
       " 'Weavers and Craftsmen OBC  (Gaderia, Chhimbe, Ramgarhia, Ghumia/Parjapat, Lohar, Suniar, Daoli,',\n",
       " 'Patel/Patidar',\n",
       " 'Mazhabi',\n",
       " 'Megh',\n",
       " 'Koeri',\n",
       " 'Service OBC (Teli, Nai/Napit/Dhobi/Kewat/Dhimar, Jogi, etc.)',\n",
       " 'Adi Karnataka',\n",
       " 'Weaver and Craftsmen OBC (Bunkar/Darzee/Lohar/Sonar/etc)',\n",
       " 'Service OBC (Teli, Nai/Napit/Dhobi/Kewat/Jogi/etc)',\n",
       " 'Weaver and Craftsmen OBC (Bunkar/Darzee/etc) (Pasmanda)',\n",
       " 'Weaver and Craftsmen OBC (Devanga/Kumbara/Vishwakama)',\n",
       " 'Weaver and Craftsmen OBC (Bunkar/Darzee/Kumhar/Lohar/Sonar/etc)',\n",
       " 'Nishad',\n",
       " 'Service OBC (Pallekari/Rajaka/Mangali/Dudekula/Kalavanthulu/etc)',\n",
       " 'Prajapati',\n",
       " 'Weaver and Craftsmen OBC (Khati/Bunkar/Darzee/Lohar/Sonar/etc)',\n",
       " 'Pod',\n",
       " 'Gaderia',\n",
       " 'Service OBC (Teli, Nai/Napit/Dhobi/Kewat, Jogi, etc.)',\n",
       " 'Lodh',\n",
       " 'Chettiar',\n",
       " 'Naidu',\n",
       " 'Paraiyan',\n",
       " 'Kapu',\n",
       " 'Kori',\n",
       " 'Gowda/Ediga',\n",
       " 'Kapu, Balija, Telaga, Ontari',\n",
       " 'Koli',\n",
       " 'Teli',\n",
       " 'Gounder',\n",
       " 'Ahir/Yadav/Gawali',\n",
       " 'Mahyavansi/Vankar',\n",
       " 'Bagdi',\n",
       " 'Vaisya, Komati, Bania',\n",
       " 'Pillai',\n",
       " 'Patel',\n",
       " 'Kushwaha',\n",
       " 'Pallan',\n",
       " 'Rajputs/Darbars',\n",
       " 'Service OBC (Meenavar, Dhobi, Nai, Pandaram, etc.)',\n",
       " 'Gawli, Dhangar, Yadav',\n",
       " 'Ghasi',\n",
       " 'Service OBC (Ghanchi/Vaghari/Dhobi/Nai/Jogi/etc)',\n",
       " 'Vaishya (Saha)/Bania',\n",
       " 'Dhobi',\n",
       " 'Mang',\n",
       " 'Ganaks, Kayastha',\n",
       " 'Khatik',\n",
       " 'Naikda',\n",
       " 'Weavers and Craftsmen OBC (Koshti, Padmashali, etc.)',\n",
       " 'Nadars',\n",
       " 'Yadhava',\n",
       " 'Santal',\n",
       " 'Koli Mahadev',\n",
       " 'Thevar',\n",
       " 'Munnuru Kapu',\n",
       " 'Kushwaha -- e.g., Koeri, Maurya, Kachhi',\n",
       " 'Bhil/Vasava',\n",
       " 'Harijan',\n",
       " 'Service OBCs (Besta/Agasa/Hajama/etc.)',\n",
       " 'Mutharayar',\n",
       " 'Bauri',\n",
       " 'Weavers and Craftsmen OBC (Devangas, Achari, Kummari, Viswakarma, Seerkarunigar, etc.)',\n",
       " 'Chakkiliyan',\n",
       " 'Maurya',\n",
       " 'Kallar',\n",
       " 'Weavers and Craftsmen OBC (Tanti, Bunkar, Darzee, Thatihar, Lakhera, Badhai, Kumhar/Kumbhar, Lo',\n",
       " 'Weaver and Craftsmen OBC (Bunkar/Darzee/Kumhar/Lohar/etc)',\n",
       " 'Koya',\n",
       " 'Sonar',\n",
       " 'Ganda',\n",
       " 'Bairwa',\n",
       " 'Kongu Vellarar',\n",
       " 'Lohar',\n",
       " 'Bhovi',\n",
       " 'Santhal',\n",
       " 'Nair',\n",
       " 'Karana',\n",
       " 'Asari',\n",
       " 'Oraon',\n",
       " 'Kamsali',\n",
       " 'Koppulu Velama',\n",
       " 'Pulayan',\n",
       " 'Yadav/Ahir/Sadgop/Goala/Gope',\n",
       " 'Naiker',\n",
       " 'Munda',\n",
       " 'Halwai',\n",
       " 'Maravars',\n",
       " 'Kamma',\n",
       " 'Service OBC (Kewat, Dhobi, Nai/Napit, Teli, Jogi/Nath, etc.)',\n",
       " 'Dhanak',\n",
       " 'Service OBC (Banjara, etc.)',\n",
       " 'Yadavs',\n",
       " 'Patels/Patidars',\n",
       " 'Balahi',\n",
       " 'Arunthathiyar',\n",
       " 'Kawar',\n",
       " 'Velama',\n",
       " 'Raju',\n",
       " 'Rajputs (Ghosh)',\n",
       " 'Varli',\n",
       " 'Thurpu Kapu',\n",
       " 'Pan',\n",
       " 'Chamar/Bhambi',\n",
       " 'Mallah',\n",
       " 'Kokna',\n",
       " 'Bind',\n",
       " 'Vyasa/Vaishya/Bania',\n",
       " 'Shabar',\n",
       " 'Rathawa',\n",
       " 'Teli (Pasmanda)',\n",
       " 'Dhoba',\n",
       " 'Thigala',\n",
       " 'Balai',\n",
       " 'Bhangi',\n",
       " 'Kandra',\n",
       " 'Edayars/Idiyans/Konars/Rao',\n",
       " 'Thakur',\n",
       " 'Khond',\n",
       " 'Service OBC (Nai/Napit/Dhobi(non-SC)/Kewat, Jogi, etc.) (Pasmanda)',\n",
       " 'Kaibartta',\n",
       " 'Bunt']"
      ]
     },
     "execution_count": 5,
     "metadata": {},
     "output_type": "execute_result"
    }
   ],
   "source": [
    "caste_dist = df.groupby(\"CASTE\").count()[\"HH_ID\"]\n",
    "pd.set_option('display.max_columns', None)\n",
    "caste_dist = caste_dist[caste_dist>300]\n",
    "list(caste_dist.sort_values(ascending=False)[2:].index)"
   ]
  },
  {
   "cell_type": "code",
   "execution_count": 6,
   "id": "53f4a85c",
   "metadata": {
    "scrolled": true
   },
   "outputs": [
    {
     "data": {
      "image/png": "[encoded data removed]",
      "text/plain": [
       "<Figure size 432x288 with 1 Axes>"
      ]
     },
     "metadata": {
      "needs_background": "light"
     },
     "output_type": "display_data"
    }
   ],
   "source": [
    "plt.rc('font', size=30)\n",
    "squarify.plot(caste_dist)\n",
    "plt.axis('off')\n",
    "plt.show()"
   ]
  },
  {
   "cell_type": "code",
   "execution_count": 7,
   "id": "51413e13",
   "metadata": {},
   "outputs": [
    {
     "data": {
      "text/plain": [
       "Index(['HH_ID', 'MEM_ID', 'STATE', 'HR', 'DISTRICT', 'REGION_TYPE', 'STRATUM',\n",
       "       'PSU_ID', 'MONTH_SLOT', 'MONTH', 'RESPONSE_STATUS',\n",
       "       'REASON_FOR_NON_RESPONSE', 'MEM_WEIGHT_MS', 'MEM_WEIGHT_FOR_COUNTRY_MS',\n",
       "       'MEM_WEIGHT_FOR_STATE_MS', 'MEM_NON_RESPONSE_MS',\n",
       "       'MEM_NON_RESPONSE_FOR_COUNTRY_MS', 'MEM_NON_RESPONSE_FOR_STATE_MS',\n",
       "       'MEMBER_STATUS', 'GENDER', 'AGE_YRS', 'AGE_MTHS', 'RELATION_WITH_HOH',\n",
       "       'STATE_OF_ORIGIN', 'RELIGION', 'CASTE', 'CASTE_CATEGORY', 'LITERACY',\n",
       "       'EDUCATION', 'NATURE_OF_OCCUPATION',\n",
       "       'INCOME_OF_MEMBER_FROM_ALL_SOURCES', 'INCOME_OF_MEMBER_FROM_WAGES'],\n",
       "      dtype='object')"
      ]
     },
     "execution_count": 7,
     "metadata": {},
     "output_type": "execute_result"
    }
   ],
   "source": [
    "df.columns"
   ]
  },
  {
   "cell_type": "code",
   "execution_count": 8,
   "id": "b3a5ab75",
   "metadata": {},
   "outputs": [
    {
     "name": "stdout",
     "output_type": "stream",
     "text": [
      "Caste Categories:  ['ST' 'Not Applicable' 'OBC' 'Intermediate Caste' 'Upper Caste'\n",
      " 'Not Stated' 'Data Not Available' 'SC']\n",
      "Religion:  ['Muslim' 'Not Applicable' 'Data Not Available' 'Religion not stated'\n",
      " 'Sikh' 'Hindu' 'Christian' 'Buddhist' 'Jain' 'Other Religion']\n"
     ]
    }
   ],
   "source": [
    "print(\"Caste Categories: \",df['CASTE_CATEGORY'].unique())\n",
    "print(\"Religion: \",df['RELIGION'].unique() )\n"
   ]
  },
  {
   "cell_type": "code",
   "execution_count": 10,
   "id": "63c75cdb",
   "metadata": {},
   "outputs": [],
   "source": [
    "ed = list(df['EDUCATION'].unique())\n",
    "years = [16,4,np.NaN, 12,11,8,5,3,18,0,10,2,1,7,9,6,14,np.NaN,21]\n",
    "ed_years_dict = {}\n",
    "for num in range(len(ed)):\n",
    "    ed_years_dict[ed[num]]=years[num]"
   ]
  },
  {
   "cell_type": "code",
   "execution_count": 18,
   "id": "939a7b06",
   "metadata": {},
   "outputs": [
    {
     "data": {
      "text/plain": [
       "(89389, 32)"
      ]
     },
     "execution_count": 18,
     "metadata": {},
     "output_type": "execute_result"
    }
   ],
   "source": [
    "df[(df[\"AGE_YRS\"]<10) & (df[\"AGE_YRS\"]>=0)].shape"
   ]
  },
  {
   "cell_type": "code",
   "execution_count": null,
   "id": "76450229",
   "metadata": {},
   "outputs": [],
   "source": []
  }
 ],
 "metadata": {
  "kernelspec": {
   "display_name": "Python 3",
   "language": "python",
   "name": "python3"
  },
  "language_info": {
   "codemirror_mode": {
    "name": "ipython",
    "version": 3
   },
   "file_extension": ".py",
   "mimetype": "text/x-python",
   "name": "python",
   "nbconvert_exporter": "python",
   "pygments_lexer": "ipython3",
   "version": "3.8.8"
  }
 },
 "nbformat": 4,
 "nbformat_minor": 5
}
