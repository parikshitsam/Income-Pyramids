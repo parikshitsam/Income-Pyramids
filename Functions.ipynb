{
 "cells": [
  {
   "cell_type": "code",
   "execution_count": 1,
   "id": "2d06ff45",
   "metadata": {},
   "outputs": [],
   "source": [
    "import pandas as pd\n",
    "import glob\n",
    "import numpy as np"
   ]
  },
  {
   "cell_type": "code",
   "execution_count": 12,
   "id": "64879f67",
   "metadata": {},
   "outputs": [],
   "source": [
    "def merge_income_cols(files, df1, how, cols_to_merge):\n",
    "    \"\"\"\n",
    "    \n",
    "\n",
    "    Parameters\n",
    "    ----------\n",
    "    on : TYPE: List\n",
    "        DESCRIPTION.\n",
    "    how : TYPE\n",
    "        DESCRIPTION.\n",
    "    cols__to_merge : TYPE\n",
    "        DESCRIPTION.\n",
    "\n",
    "    Returns Merged income files from the specified period\n",
    "    -------\n",
    "    None.\n",
    "\n",
    "    \"\"\"\n",
    "    for path in income_files[1:]:\n",
    "        df2 = pd.read_csv(path)\n",
    "        month = df2['MONTH'][10]\n",
    "        print(month)\n",
    "        cols_to_keep = ['HH_ID','MEM_ID'] + [cols_to_merge]\n",
    "        df2 = df2[cols_to_keep]\n",
    "        rename_dict = {}\n",
    "        for col in col_to_merge:\n",
    "            rename_dict[col]=month+str(col)\n",
    "        df2.rename(columns = rename_dict)\n",
    "        df1 = pd.merge(df1,df3,how = how,on=['HH_ID','MEM_ID'])\n",
    "    return df1"
   ]
  },
  {
   "cell_type": "code",
   "execution_count": 3,
   "id": "8eba13ad",
   "metadata": {},
   "outputs": [],
   "source": [
    "income_path = r\"C:\\Users\\parik\\Documents\\Data sets\\income pyramids\\Member Incomes\"\n",
    "income_files = glob.glob(income_path + \"/*.csv\")[60:]"
   ]
  },
  {
   "cell_type": "code",
   "execution_count": 4,
   "id": "ecd470db",
   "metadata": {},
   "outputs": [],
   "source": [
    "cols_to_keep = ['HH_ID','MEM_ID','MONTH','MARITAL_STATUS','GENDER']"
   ]
  },
  {
   "cell_type": "code",
   "execution_count": 5,
   "id": "76d8939b",
   "metadata": {},
   "outputs": [],
   "source": [
    "df = pd.read_csv(income_files[0])\n",
    "df = df[cols_to_keep]"
   ]
  },
  {
   "cell_type": "code",
   "execution_count": 6,
   "id": "12a51616",
   "metadata": {},
   "outputs": [
    {
     "data": {
      "text/html": [
       "<div>\n",
       "<style scoped>\n",
       "    .dataframe tbody tr th:only-of-type {\n",
       "        vertical-align: middle;\n",
       "    }\n",
       "\n",
       "    .dataframe tbody tr th {\n",
       "        vertical-align: top;\n",
       "    }\n",
       "\n",
       "    .dataframe thead th {\n",
       "        text-align: right;\n",
       "    }\n",
       "</style>\n",
       "<table border=\"1\" class=\"dataframe\">\n",
       "  <thead>\n",
       "    <tr style=\"text-align: right;\">\n",
       "      <th></th>\n",
       "      <th>HH_ID</th>\n",
       "      <th>MEM_ID</th>\n",
       "      <th>MONTH</th>\n",
       "      <th>MARITAL_STATUS</th>\n",
       "      <th>GENDER</th>\n",
       "    </tr>\n",
       "  </thead>\n",
       "  <tbody>\n",
       "    <tr>\n",
       "      <th>0</th>\n",
       "      <td>77051739</td>\n",
       "      <td>1</td>\n",
       "      <td>Jan 2019</td>\n",
       "      <td>Widowed</td>\n",
       "      <td>M</td>\n",
       "    </tr>\n",
       "    <tr>\n",
       "      <th>1</th>\n",
       "      <td>77051739</td>\n",
       "      <td>2</td>\n",
       "      <td>Jan 2019</td>\n",
       "      <td>Unmarried</td>\n",
       "      <td>M</td>\n",
       "    </tr>\n",
       "    <tr>\n",
       "      <th>2</th>\n",
       "      <td>77051739</td>\n",
       "      <td>4</td>\n",
       "      <td>Jan 2019</td>\n",
       "      <td>Not Applicable</td>\n",
       "      <td>Not Applicable</td>\n",
       "    </tr>\n",
       "    <tr>\n",
       "      <th>3</th>\n",
       "      <td>77051739</td>\n",
       "      <td>5</td>\n",
       "      <td>Jan 2019</td>\n",
       "      <td>Not Applicable</td>\n",
       "      <td>Not Applicable</td>\n",
       "    </tr>\n",
       "    <tr>\n",
       "      <th>4</th>\n",
       "      <td>77051739</td>\n",
       "      <td>6</td>\n",
       "      <td>Jan 2019</td>\n",
       "      <td>Unmarried</td>\n",
       "      <td>F</td>\n",
       "    </tr>\n",
       "  </tbody>\n",
       "</table>\n",
       "</div>"
      ],
      "text/plain": [
       "      HH_ID  MEM_ID     MONTH  MARITAL_STATUS          GENDER\n",
       "0  77051739       1  Jan 2019         Widowed               M\n",
       "1  77051739       2  Jan 2019       Unmarried               M\n",
       "2  77051739       4  Jan 2019  Not Applicable  Not Applicable\n",
       "3  77051739       5  Jan 2019  Not Applicable  Not Applicable\n",
       "4  77051739       6  Jan 2019       Unmarried               F"
      ]
     },
     "execution_count": 6,
     "metadata": {},
     "output_type": "execute_result"
    }
   ],
   "source": [
    "df.head()"
   ]
  },
  {
   "cell_type": "code",
   "execution_count": 13,
   "id": "32a2cb07",
   "metadata": {},
   "outputs": [
    {
     "name": "stdout",
     "output_type": "stream",
     "text": [
      "Feb 2019\n"
     ]
    },
    {
     "ename": "NameError",
     "evalue": "name 'col_to_merge' is not defined",
     "output_type": "error",
     "traceback": [
      "\u001b[1;31m---------------------------------------------------------------------------\u001b[0m",
      "\u001b[1;31mNameError\u001b[0m                                 Traceback (most recent call last)",
      "\u001b[1;32m<ipython-input-13-327443e6e71e>\u001b[0m in \u001b[0;36m<module>\u001b[1;34m\u001b[0m\n\u001b[1;32m----> 1\u001b[1;33m \u001b[0mdf2\u001b[0m \u001b[1;33m=\u001b[0m \u001b[0mmerge_income_cols\u001b[0m\u001b[1;33m(\u001b[0m\u001b[0mincome_files\u001b[0m\u001b[1;33m[\u001b[0m\u001b[1;36m1\u001b[0m\u001b[1;33m:\u001b[0m\u001b[1;33m]\u001b[0m\u001b[1;33m,\u001b[0m \u001b[0mdf1\u001b[0m\u001b[1;33m=\u001b[0m \u001b[0mdf\u001b[0m\u001b[1;33m,\u001b[0m \u001b[0mhow\u001b[0m\u001b[1;33m=\u001b[0m \u001b[1;34m'inner'\u001b[0m\u001b[1;33m,\u001b[0m\u001b[0mcols_to_merge\u001b[0m\u001b[1;33m=\u001b[0m \u001b[1;34m\"MARITAL_STATUS\"\u001b[0m\u001b[1;33m)\u001b[0m\u001b[1;33m\u001b[0m\u001b[1;33m\u001b[0m\u001b[0m\n\u001b[0m",
      "\u001b[1;32m<ipython-input-12-35ecb58f16fe>\u001b[0m in \u001b[0;36mmerge_income_cols\u001b[1;34m(files, df1, how, cols_to_merge)\u001b[0m\n\u001b[0;32m     24\u001b[0m         \u001b[0mdf2\u001b[0m \u001b[1;33m=\u001b[0m \u001b[0mdf2\u001b[0m\u001b[1;33m[\u001b[0m\u001b[0mcols_to_keep\u001b[0m\u001b[1;33m]\u001b[0m\u001b[1;33m\u001b[0m\u001b[1;33m\u001b[0m\u001b[0m\n\u001b[0;32m     25\u001b[0m         \u001b[0mrename_dict\u001b[0m \u001b[1;33m=\u001b[0m \u001b[1;33m{\u001b[0m\u001b[1;33m}\u001b[0m\u001b[1;33m\u001b[0m\u001b[1;33m\u001b[0m\u001b[0m\n\u001b[1;32m---> 26\u001b[1;33m         \u001b[1;32mfor\u001b[0m \u001b[0mcol\u001b[0m \u001b[1;32min\u001b[0m \u001b[0mcol_to_merge\u001b[0m\u001b[1;33m:\u001b[0m\u001b[1;33m\u001b[0m\u001b[1;33m\u001b[0m\u001b[0m\n\u001b[0m\u001b[0;32m     27\u001b[0m             \u001b[0mrename_dict\u001b[0m\u001b[1;33m[\u001b[0m\u001b[0mcol\u001b[0m\u001b[1;33m]\u001b[0m\u001b[1;33m=\u001b[0m\u001b[0mmonth\u001b[0m\u001b[1;33m+\u001b[0m\u001b[0mstr\u001b[0m\u001b[1;33m(\u001b[0m\u001b[0mcol\u001b[0m\u001b[1;33m)\u001b[0m\u001b[1;33m\u001b[0m\u001b[1;33m\u001b[0m\u001b[0m\n\u001b[0;32m     28\u001b[0m         \u001b[0mdf2\u001b[0m\u001b[1;33m.\u001b[0m\u001b[0mrename\u001b[0m\u001b[1;33m(\u001b[0m\u001b[0mcolumns\u001b[0m \u001b[1;33m=\u001b[0m \u001b[0mrename_dict\u001b[0m\u001b[1;33m)\u001b[0m\u001b[1;33m\u001b[0m\u001b[1;33m\u001b[0m\u001b[0m\n",
      "\u001b[1;31mNameError\u001b[0m: name 'col_to_merge' is not defined"
     ]
    }
   ],
   "source": [
    "df2 = merge_income_cols(income_files[1:], df1= df, how= 'inner',cols_to_merge= \"MARITAL_STATUS\")"
   ]
  },
  {
   "cell_type": "code",
   "execution_count": null,
   "id": "c9e6d399",
   "metadata": {},
   "outputs": [],
   "source": []
  }
 ],
 "metadata": {
  "kernelspec": {
   "display_name": "Python 3",
   "language": "python",
   "name": "python3"
  },
  "language_info": {
   "codemirror_mode": {
    "name": "ipython",
    "version": 3
   },
   "file_extension": ".py",
   "mimetype": "text/x-python",
   "name": "python",
   "nbconvert_exporter": "python",
   "pygments_lexer": "ipython3",
   "version": "3.8.8"
  }
 },
 "nbformat": 4,
 "nbformat_minor": 5
}
