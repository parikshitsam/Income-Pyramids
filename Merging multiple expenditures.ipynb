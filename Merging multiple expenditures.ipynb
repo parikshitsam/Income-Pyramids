{
 "cells": [
  {
   "cell_type": "code",
   "execution_count": 1,
   "id": "f5a0b3a0",
   "metadata": {},
   "outputs": [],
   "source": [
    "import numpy as np\n",
    "import pandas as pd\n",
    "import matplotlib.pyplot as plt\n",
    "import glob\n",
    "import zipfile\n",
    "%matplotlib notebook"
   ]
  },
  {
   "cell_type": "code",
   "execution_count": 2,
   "id": "da5c7292",
   "metadata": {},
   "outputs": [],
   "source": [
    "# path = r\"C:\\Users\\parik\\Documents\\Data sets\\Consumption Pyramids-20220311T061932Z-001\\Consumption Pyramids\\Monthly Expenses\"\n",
    "# all_files = glob.glob(path + \"/*.csv\")\n",
    "# files2019 = []\n",
    "# for path in all_files:\n",
    "#     if \"2019\" in path:\n",
    "#         files2019.append(path)\n",
    "        \n",
    "# files2019 = files2019[-4:-1]\n",
    "\n",
    "# li = []\n",
    "\n",
    "# for filename in files2019:\n",
    "#     df = pd.read_csv(filename, index_col=None, header=0)\n",
    "#     li.append(df)\n",
    "\n",
    "# frame = pd.concat(li, axis=0, ignore_index=True)\n",
    "# df_merged = pd.read_csv('df_merged_ex.csv')\n",
    "# df_merged.drop('Unnamed: 0',axis = 1,inplace=True)\n",
    "# merged_exps = pd.merge(misc_exp,df_merged, how = \"inner\", on = \"HH_ID\")\n",
    "# bride = merged_exps['is_bride']\n",
    "# groom = ~bride"
   ]
  },
  {
   "cell_type": "markdown",
   "id": "28325e55",
   "metadata": {},
   "source": [
    "Make a tuple of files to merge."
   ]
  },
  {
   "cell_type": "code",
   "execution_count": 3,
   "id": "d83f6bba",
   "metadata": {},
   "outputs": [],
   "source": [
    "aspiration_path = r\"C:\\Users\\parik\\Documents\\Data sets\\aspirations\\drive-download-20220221T055656Z-001\"\n",
    "aspiration_files = glob.glob(aspiration_path + \"/*.csv\")\n",
    "aspiration_files = aspiration_files[16:]\n",
    "income_path = r\"C:\\Users\\parik\\Documents\\Data sets\\income pyramids\\Member Incomes\"\n",
    "income_files = glob.glob(income_path + \"/*.csv\")\n",
    "income_files = income_files[60:]\n",
    "files_to_keep = []\n",
    "for x in range(len(income_files)):\n",
    "    if x%4 == 0:\n",
    "        files_to_keep.append(income_files[x])\n",
    "income_files = files_to_keep\n",
    "\n",
    "exp_path = r\"C:\\Users\\parik\\Documents\\Data sets\\Consumption Pyramids-20220311T061932Z-001\\Consumption Pyramids\\Monthly Expenses\"\n",
    "exp_files = glob.glob(exp_path + \"/*.csv\")\n",
    "exp_files = exp_files[60:]\n",
    "\n",
    "list_exp_paths = []\n",
    "for x in range(len(exp_files)//3):\n",
    "    file1 = exp_files[3*x]\n",
    "    file2 = exp_files[3*x + 1]\n",
    "    file3 = exp_files[3*x + 2]\n",
    "    files = file1,file2,file3\n",
    "    list_exp_paths.append(files)\n",
    "exp_files = list_exp_paths[1:-1]\n",
    "    "
   ]
  },
  {
   "cell_type": "markdown",
   "id": "c79b2e50",
   "metadata": {},
   "source": [
    "Steps to move ahead:\n",
    "\n",
    "1. open aspirations\n",
    "2. hhid of households that borrowed for wedding at sometime.\n",
    "3. open income \n",
    "4. Identify member id, age, gender of member.\n",
    "5. open cphs\n",
    "6. merge hhid,memid,age,gender with cphs"
   ]
  },
  {
   "cell_type": "code",
   "execution_count": 4,
   "id": "fa974aef",
   "metadata": {},
   "outputs": [],
   "source": [
    "bi = []\n",
    "for x in range(len(income_files)):\n",
    "    df = pd.read_csv(aspiration_files[x])\n",
    "    cols_to_keep = ['WAVE_NO', 'HH_ID', 'AGE_GROUP',\n",
    "     'INCOME_GROUP',\n",
    "     'OCCUPATION_GROUP',\n",
    "     'EDUCATION_GROUP',\n",
    "     'GENDER_GROUP',\n",
    "     'WATER_GROUP',\n",
    "     'POWER_GROUP',\n",
    "     'TRAVEL_GROUP',\n",
    "     'SIZE_GROUP',\n",
    "    'BORROWED_FOR_WEDDING']\n",
    "    df = df[cols_to_keep]\n",
    "    df = df[df['BORROWED_FOR_WEDDING'] == 'Y']\n",
    "    df2 = pd.read_csv(income_files[x])\n",
    "    df2cols = ['HH_ID', 'MEM_ID','GENDER', 'AGE_YRS','AGE_MTHS','MARITAL_STATUS','LITERACY','EDUCATION','INCOME_OF_MEMBER_FROM_ALL_SOURCES']\n",
    "    df2 = df2[df2cols]\n",
    "    df2['unmarried'] = df2['MARITAL_STATUS'] == \"Unmarried\"\n",
    "    df2 = df2[df2['unmarried']]\n",
    "    df2_max_gender_of_unmarried  = df2.loc[df2.groupby([\"HH_ID\"])[\"AGE_MTHS\"].idxmax()] \n",
    "    df2_max_gender_of_unmarried.rename(columns={'GENDER':'gender_married', \"AGE_YRS\": 'age_married'}, inplace=True)\n",
    "    df_merged = pd.merge(df,df2_max_gender_of_unmarried, how = \"inner\", on = \"HH_ID\")\n",
    "    \n",
    "    li = []\n",
    "    for filename in exp_files[x]:\n",
    "        df = pd.read_csv(filename, index_col=None, header=0)\n",
    "        li.append(df)\n",
    "    frame = pd.concat(li, axis=0, ignore_index=True)\n",
    "    misc_exp = frame.groupby('HH_ID').agg(np.sum)\n",
    "    merged_exps = pd.merge(misc_exp,df_merged, how = \"inner\", on = \"HH_ID\")\n",
    "    cols_to_keep = ['HH_ID', \n",
    "                    'WAVE_NO',\n",
    "     'HH_WEIGHT_MS',\n",
    "     'HH_WEIGHT_FOR_COUNTRY_MS',\n",
    "     'HH_WEIGHT_FOR_STATE_MS',\n",
    "     'HH_NON_RESPONSE_MS',\n",
    "     'HH_NON_RESPONSE_FOR_COUNTRY_MS',\n",
    "     'HH_NON_RESPONSE_FOR_STATE_MS',\n",
    "     'TOTAL_EXPENDITURE',\n",
    "    'MONTHLY_EXPENSE_ON_MISCELLANEOUS',\n",
    "     'ADJ_TOTAL_EXPENDITURE',\n",
    "    'WAVE_NO',\n",
    "     'AGE_GROUP',\n",
    "     'INCOME_GROUP',\n",
    "     'OCCUPATION_GROUP',\n",
    "     'EDUCATION_GROUP',\n",
    "     'GENDER_GROUP',\n",
    "     'WATER_GROUP',\n",
    "     'POWER_GROUP',\n",
    "     'TRAVEL_GROUP',\n",
    "     'SIZE_GROUP',\n",
    "     'BORROWED_FOR_WEDDING',\n",
    "     'MEM_ID',\n",
    "     'gender_married',\n",
    "     'age_married',\n",
    "     'AGE_MTHS',\n",
    "     'MARITAL_STATUS',\n",
    "     'LITERACY',\n",
    "     'EDUCATION',\n",
    "     'INCOME_OF_MEMBER_FROM_ALL_SOURCES',\n",
    "     'unmarried']\n",
    "    merged_exps = merged_exps[cols_to_keep]\n",
    "    bi.append(merged_exps)"
   ]
  },
  {
   "cell_type": "code",
   "execution_count": 5,
   "id": "4d8b9b32",
   "metadata": {},
   "outputs": [],
   "source": [
    "frame = pd.concat(bi, axis=0, ignore_index=True)"
   ]
  },
  {
   "cell_type": "code",
   "execution_count": 6,
   "id": "61ff7bec",
   "metadata": {},
   "outputs": [
    {
     "data": {
      "text/plain": [
       "(4901, 31)"
      ]
     },
     "execution_count": 6,
     "metadata": {},
     "output_type": "execute_result"
    }
   ],
   "source": [
    "frame.shape"
   ]
  },
  {
   "cell_type": "code",
   "execution_count": 7,
   "id": "fa134f26",
   "metadata": {},
   "outputs": [
    {
     "data": {
      "text/plain": [
       "Index(['HH_ID', 'WAVE_NO', 'HH_WEIGHT_MS', 'HH_WEIGHT_FOR_COUNTRY_MS',\n",
       "       'HH_WEIGHT_FOR_STATE_MS', 'HH_NON_RESPONSE_MS',\n",
       "       'HH_NON_RESPONSE_FOR_COUNTRY_MS', 'HH_NON_RESPONSE_FOR_STATE_MS',\n",
       "       'TOTAL_EXPENDITURE', 'MONTHLY_EXPENSE_ON_MISCELLANEOUS',\n",
       "       'ADJ_TOTAL_EXPENDITURE', 'WAVE_NO', 'AGE_GROUP', 'INCOME_GROUP',\n",
       "       'OCCUPATION_GROUP', 'EDUCATION_GROUP', 'GENDER_GROUP', 'WATER_GROUP',\n",
       "       'POWER_GROUP', 'TRAVEL_GROUP', 'SIZE_GROUP', 'BORROWED_FOR_WEDDING',\n",
       "       'MEM_ID', 'gender_married', 'age_married', 'AGE_MTHS', 'MARITAL_STATUS',\n",
       "       'LITERACY', 'EDUCATION', 'INCOME_OF_MEMBER_FROM_ALL_SOURCES',\n",
       "       'unmarried'],\n",
       "      dtype='object')"
      ]
     },
     "execution_count": 7,
     "metadata": {},
     "output_type": "execute_result"
    }
   ],
   "source": [
    "frame.columns"
   ]
  },
  {
   "cell_type": "code",
   "execution_count": 8,
   "id": "30904805",
   "metadata": {},
   "outputs": [],
   "source": [
    "bride = merged_exps['gender_married'] == 'F'\n",
    "groom = ~bride"
   ]
  },
  {
   "cell_type": "code",
   "execution_count": 11,
   "id": "70dc41e1",
   "metadata": {},
   "outputs": [
    {
     "data": {
      "text/plain": [
       "27786.648780487805"
      ]
     },
     "execution_count": 11,
     "metadata": {},
     "output_type": "execute_result"
    }
   ],
   "source": [
    "merged_exps[bride][\"TOTAL_EXPENDITURE\"].mean()"
   ]
  },
  {
   "cell_type": "code",
   "execution_count": 12,
   "id": "78dbf222",
   "metadata": {},
   "outputs": [
    {
     "data": {
      "text/plain": [
       "31166.83816793893"
      ]
     },
     "execution_count": 12,
     "metadata": {},
     "output_type": "execute_result"
    }
   ],
   "source": [
    "merged_exps[groom][\"TOTAL_EXPENDITURE\"].mean()"
   ]
  },
  {
   "cell_type": "code",
   "execution_count": null,
   "id": "a8e8e022",
   "metadata": {},
   "outputs": [],
   "source": []
  },
  {
   "cell_type": "code",
   "execution_count": null,
   "id": "55e0a578",
   "metadata": {},
   "outputs": [],
   "source": []
  },
  {
   "cell_type": "code",
   "execution_count": null,
   "id": "49539c2f",
   "metadata": {},
   "outputs": [],
   "source": []
  },
  {
   "cell_type": "code",
   "execution_count": null,
   "id": "6ab0db5f",
   "metadata": {},
   "outputs": [],
   "source": []
  },
  {
   "cell_type": "code",
   "execution_count": null,
   "id": "c295842d",
   "metadata": {},
   "outputs": [],
   "source": []
  },
  {
   "cell_type": "code",
   "execution_count": null,
   "id": "3614a2e5",
   "metadata": {},
   "outputs": [],
   "source": []
  }
 ],
 "metadata": {
  "kernelspec": {
   "display_name": "Python 3",
   "language": "python",
   "name": "python3"
  },
  "language_info": {
   "codemirror_mode": {
    "name": "ipython",
    "version": 3
   },
   "file_extension": ".py",
   "mimetype": "text/x-python",
   "name": "python",
   "nbconvert_exporter": "python",
   "pygments_lexer": "ipython3",
   "version": "3.8.8"
  }
 },
 "nbformat": 4,
 "nbformat_minor": 5
}
